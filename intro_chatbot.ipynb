{
 "cells": [
  {
   "cell_type": "code",
   "execution_count": 1,
   "metadata": {},
   "outputs": [
    {
     "name": "stderr",
     "output_type": "stream",
     "text": [
      "[nltk_data] Downloading package gutenberg to\n",
      "[nltk_data]     C:\\Users\\LEGION\\AppData\\Roaming\\nltk_data...\n",
      "[nltk_data]   Package gutenberg is already up-to-date!\n"
     ]
    },
    {
     "name": "stdout",
     "output_type": "stream",
     "text": [
      "Requirement already satisfied: en_core_web_sm==2.1.0 from https://github.com/explosion/spacy-models/releases/download/en_core_web_sm-2.1.0/en_core_web_sm-2.1.0.tar.gz#egg=en_core_web_sm==2.1.0 in c:\\programdata\\anaconda3\\lib\\site-packages (2.1.0)\n",
      "symbolic link created for C:\\ProgramData\\Anaconda3\\lib\\site-packages\\spacy\\data\\en <<===>> C:\\ProgramData\\Anaconda3\\lib\\site-packages\\en_core_web_sm\n",
      "[+] Download and installation successful\n",
      "You can now load the model via spacy.load('en_core_web_sm')\n",
      "[+] Linking successful\n",
      "C:\\ProgramData\\Anaconda3\\lib\\site-packages\\en_core_web_sm -->\n",
      "C:\\ProgramData\\Anaconda3\\lib\\site-packages\\spacy\\data\\en\n",
      "You can now load the model via spacy.load('en')\n"
     ]
    }
   ],
   "source": [
    "import nltk\n",
    "import numpy as np\n",
    "import pandas as pd\n",
    "import random\n",
    "import string\n",
    "from sklearn.feature_extraction.text import TfidfVectorizer\n",
    "from sklearn.metrics.pairwise import cosine_similarity\n",
    "from sqlalchemy import create_engine\n",
    "from nltk.corpus import gutenberg\n",
    "import re\n",
    "import spacy\n",
    "from chatterbot import ChatBot\n",
    "from chatterbot.trainers import ListTrainer, ChatterBotCorpusTrainer\n",
    "from chatterbot.conversation import Statement\n",
    "import warnings\n",
    "warnings.filterwarnings(\"ignore\")\n",
    "\n",
    "nltk.download('gutenberg')\n",
    "!python -m spacy download en"
   ]
  },
  {
   "cell_type": "code",
   "execution_count": 2,
   "metadata": {},
   "outputs": [
    {
     "data": {
      "text/html": [
       "<div>\n",
       "<style scoped>\n",
       "    .dataframe tbody tr th:only-of-type {\n",
       "        vertical-align: middle;\n",
       "    }\n",
       "\n",
       "    .dataframe tbody tr th {\n",
       "        vertical-align: top;\n",
       "    }\n",
       "\n",
       "    .dataframe thead th {\n",
       "        text-align: right;\n",
       "    }\n",
       "</style>\n",
       "<table border=\"1\" class=\"dataframe\">\n",
       "  <thead>\n",
       "    <tr style=\"text-align: right;\">\n",
       "      <th></th>\n",
       "      <th>index</th>\n",
       "      <th>dialogs</th>\n",
       "    </tr>\n",
       "  </thead>\n",
       "  <tbody>\n",
       "    <tr>\n",
       "      <th>0</th>\n",
       "      <td>0</td>\n",
       "      <td>Can we make this quick?  Roxanne Korrine and A...</td>\n",
       "    </tr>\n",
       "    <tr>\n",
       "      <th>1</th>\n",
       "      <td>1</td>\n",
       "      <td>Well, I thought we'd start with pronunciation,...</td>\n",
       "    </tr>\n",
       "    <tr>\n",
       "      <th>2</th>\n",
       "      <td>2</td>\n",
       "      <td>Not the hacking and gagging and spitting part....</td>\n",
       "    </tr>\n",
       "    <tr>\n",
       "      <th>3</th>\n",
       "      <td>3</td>\n",
       "      <td>Okay... then how 'bout we try out some French ...</td>\n",
       "    </tr>\n",
       "    <tr>\n",
       "      <th>4</th>\n",
       "      <td>4</td>\n",
       "      <td>You're asking me out.  That's so cute. What's ...</td>\n",
       "    </tr>\n",
       "  </tbody>\n",
       "</table>\n",
       "</div>"
      ],
      "text/plain": [
       "   index                                            dialogs\n",
       "0      0  Can we make this quick?  Roxanne Korrine and A...\n",
       "1      1  Well, I thought we'd start with pronunciation,...\n",
       "2      2  Not the hacking and gagging and spitting part....\n",
       "3      3  Okay... then how 'bout we try out some French ...\n",
       "4      4  You're asking me out.  That's so cute. What's ..."
      ]
     },
     "execution_count": 2,
     "metadata": {},
     "output_type": "execute_result"
    }
   ],
   "source": [
    "postgres_user = 'dsbc_student'\n",
    "postgres_pw = '7*.8G9QH21'\n",
    "postgres_host = '142.93.121.174'\n",
    "postgres_port = '5432'\n",
    "postgres_db = 'cornell_movie_dialogs'\n",
    "\n",
    "engine = create_engine('postgresql://{}:{}@{}:{}/{}'.format(\n",
    "    postgres_user, postgres_pw, postgres_host, postgres_port, postgres_db))\n",
    "\n",
    "data = pd.read_sql_query('SELECT * FROM dialogs', con=engine)\n",
    "                       \n",
    "engine.dispose()\n",
    "data.head()"
   ]
  },
  {
   "cell_type": "code",
   "execution_count": 3,
   "metadata": {},
   "outputs": [],
   "source": [
    "data.drop(columns=['index'], inplace=True)"
   ]
  },
  {
   "cell_type": "code",
   "execution_count": 4,
   "metadata": {},
   "outputs": [
    {
     "name": "stdout",
     "output_type": "stream",
     "text": [
      "<class 'pandas.core.frame.DataFrame'>\n",
      "RangeIndex: 304446 entries, 0 to 304445\n",
      "Data columns (total 1 columns):\n",
      " #   Column   Non-Null Count   Dtype \n",
      "---  ------   --------------   ----- \n",
      " 0   dialogs  304446 non-null  object\n",
      "dtypes: object(1)\n",
      "memory usage: 2.3+ MB\n"
     ]
    }
   ],
   "source": [
    "data.info()"
   ]
  },
  {
   "cell_type": "code",
   "execution_count": 5,
   "metadata": {},
   "outputs": [],
   "source": [
    "# Nested Joins and splits to remove excess whitespace and combine into one clean text string\n",
    "dialogue = ' '.join(' '.join(data).split())"
   ]
  },
  {
   "cell_type": "code",
   "execution_count": 6,
   "metadata": {},
   "outputs": [],
   "source": [
    "# Use spacy to parse dialog\n",
    "nlp = spacy.load('en', disable=['parser', 'ner'])\n",
    "nlp.add_pipe(nlp.create_pipe('sentencizer'))\n",
    "nlp.max_length = 20000000\n",
    "doc = nlp(dialogue)"
   ]
  },
  {
   "cell_type": "code",
   "execution_count": 7,
   "metadata": {},
   "outputs": [],
   "source": [
    "# removing the stopwords while lemmatizing\n",
    "nostop_lemmas = [token.lemma_ for token in doc if not token.is_stop]"
   ]
  },
  {
   "cell_type": "code",
   "execution_count": 8,
   "metadata": {},
   "outputs": [
    {
     "name": "stdout",
     "output_type": "stream",
     "text": [
      "\r",
      "List Trainer: [####################] 100%"
     ]
    },
    {
     "name": "stderr",
     "output_type": "stream",
     "text": [
      "[nltk_data] Downloading package stopwords to\n",
      "[nltk_data]     C:\\Users\\LEGION\\AppData\\Roaming\\nltk_data...\n",
      "[nltk_data]   Package stopwords is already up-to-date!\n",
      "[nltk_data] Downloading package averaged_perceptron_tagger to\n",
      "[nltk_data]     C:\\Users\\LEGION\\AppData\\Roaming\\nltk_data...\n",
      "[nltk_data]   Package averaged_perceptron_tagger is already up-to-\n",
      "[nltk_data]       date!\n"
     ]
    },
    {
     "name": "stdout",
     "output_type": "stream",
     "text": [
      "\r\n"
     ]
    }
   ],
   "source": [
    "# Instantiate a new chatbot and give it a name\n",
    "chatbot = ChatBot('Movie Dialogue')\n",
    "# Clear any accumulated knowledge\n",
    "chatbot.storage.drop\n",
    "# Create a new trainer for chatbot\n",
    "trainer = ListTrainer(chatbot)\n",
    "# Train the chatbot\n",
    "trainer.train(nostop_lemmas)"
   ]
  },
  {
   "cell_type": "code",
   "execution_count": 9,
   "metadata": {},
   "outputs": [],
   "source": [
    "GREETING_INPUTS = [\"hello\", \"hi\", \"greetings\", \"what's up\",\"hey\"]\n",
    "GREETING_RESPONSES = [\"hello\", \"hi\", \"hey\", \"hi there\"]\n",
    "def greeting(sentence):\n",
    "    for word in sentence.split():\n",
    "        if word.lower() in GREETING_INPUTS:\n",
    "            return random.choice(GREETING_RESPONSES)"
   ]
  },
  {
   "cell_type": "code",
   "execution_count": 10,
   "metadata": {},
   "outputs": [
    {
     "name": "stdout",
     "output_type": "stream",
     "text": [
      "This is the Movie Dialogue chatbot! Type \"exit\" if you wish to quit chatting...\n",
      "User: hey\n",
      "Moviebot: hi\n",
      "User: hi\n",
      "Moviebot: hello\n",
      "User: hello\n",
      "Moviebot: hey\n",
      "User: are you a robot?\n",
      "Moviebot: up\n",
      "User: sounds about right\n",
      "Moviebot: is\n",
      "User: why do you only output one word?\n",
      "Moviebot: are you a robot?\n",
      "User: that is a little better\n",
      "Moviebot: are you a robot?\n",
      "User: no\n",
      "Moviebot: sounds about right\n",
      "User: what is going on?\n",
      "Moviebot: seem\n",
      "User: butterfly\n",
      "Moviebot: dialog\n",
      "User: dialog\n",
      "Moviebot: this is madness\n",
      "User: how did you remember that phrase?\n",
      "Moviebot: dialog\n",
      "User: dont crap out on me just yet\n",
      "Moviebot: yo\n",
      "User: i give up\n",
      "Moviebot: what\n",
      "User: you are not working right\n",
      "Moviebot: butterfly\n",
      "User: exit\n",
      "Moviebot: Bye! It was a great chat!\n"
     ]
    }
   ],
   "source": [
    "print('This is the Movie Dialogue chatbot! Type \"exit\" if you wish to quit chatting...')\n",
    "\n",
    "while True:\n",
    "    user_input = input('User: ')\n",
    "    user_input = user_input.lower()\n",
    "    \n",
    "    if (user_input != 'exit'):\n",
    "        if (user_input == 'thanks' or user_input == 'thank you'):\n",
    "            break\n",
    "            print(\"Moviebot: You're welcome!\")\n",
    "            \n",
    "        else:\n",
    "            if (greeting(user_input) != None):\n",
    "                print(\"Moviebot: \" + greeting(user_input))\n",
    "            else:\n",
    "                print(\"Moviebot: \", end = '')\n",
    "                print(chatbot.get_response(user_input))\n",
    "    else:\n",
    "        print(\"Moviebot: Bye! It was a great chat!\")\n",
    "        break"
   ]
  },
  {
   "cell_type": "markdown",
   "metadata": {},
   "source": [
    "This chatbot is extremely basic and needs much better training in order to parse out acceptable phrases. Maybe spending more time on preprocessing or using different numbers of words when building relationships is necessary to output more relevant phrases. This bot is just good at learning and outputting very basic responses as is."
   ]
  },
  {
   "cell_type": "code",
   "execution_count": null,
   "metadata": {},
   "outputs": [],
   "source": []
  }
 ],
 "metadata": {
  "kernelspec": {
   "display_name": "Python 3",
   "language": "python",
   "name": "python3"
  },
  "language_info": {
   "codemirror_mode": {
    "name": "ipython",
    "version": 3
   },
   "file_extension": ".py",
   "mimetype": "text/x-python",
   "name": "python",
   "nbconvert_exporter": "python",
   "pygments_lexer": "ipython3",
   "version": "3.7.6"
  }
 },
 "nbformat": 4,
 "nbformat_minor": 4
}
